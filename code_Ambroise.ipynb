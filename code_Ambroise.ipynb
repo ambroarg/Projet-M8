{
 "cells": [
  {
   "cell_type": "code",
   "execution_count": 18,
   "id": "64b1fce6",
   "metadata": {},
   "outputs": [],
   "source": [
    "import pandas as pd\n",
    "import numpy as np\n",
    "\n",
    "# Charger le fichier CSV\n",
    "donnees_csv = pd.read_csv(\"student-por.csv\")\n",
    "\n",
    "# Créer une matrice à partir des données CSV\n",
    "matrice = np.array(donnees_csv.values)\n",
    "\n",
    "n, p = matrice.shape\n",
    "\n",
    "school = matrice[:,0]\n",
    "sex = matrice[:,1]\n",
    "age = matrice[:,2]\n",
    "address = matrice[:,3]\n",
    "famsize = matrice[:,4]\n",
    "Pstatus = matrice[:,5]\n",
    "Medu = matrice[:,6]\n",
    "Fedu = matrice[:,7]\n",
    "Mjob = matrice[:,8]\n",
    "Fjob = matrice[:,9]\n",
    "\n",
    "G1= matrice[:,-3]\n",
    "G2= matrice[:,-2]\n",
    "G3= matrice[:,-1]"
   ]
  },
  {
   "cell_type": "code",
   "execution_count": null,
   "id": "da176738",
   "metadata": {},
   "outputs": [],
   "source": []
  }
 ],
 "metadata": {
  "kernelspec": {
   "display_name": "Python 3 (ipykernel)",
   "language": "python",
   "name": "python3"
  },
  "language_info": {
   "codemirror_mode": {
    "name": "ipython",
    "version": 3
   },
   "file_extension": ".py",
   "mimetype": "text/x-python",
   "name": "python",
   "nbconvert_exporter": "python",
   "pygments_lexer": "ipython3",
   "version": "3.9.13"
  }
 },
 "nbformat": 4,
 "nbformat_minor": 5
}
